{
 "cells": [
  {
   "cell_type": "markdown",
   "id": "521afb36",
   "metadata": {},
   "source": [
    "# Project: Salary Predict"
   ]
  },
  {
   "cell_type": "markdown",
   "id": "c93956c9",
   "metadata": {},
   "source": [
    "### excel implemetation in python\n",
    "in this part we will do how to do the same as we did in the excel file \"modelo_predicciones.xlsx\" but in python, to compare how easier is whit this language.\n",
    "\n",
    "The first thing we need to do is import the necessary libraries we will use."
   ]
  },
  {
   "cell_type": "code",
   "execution_count": null,
   "id": "fa0fb614",
   "metadata": {},
   "outputs": [],
   "source": [
    "#libraries\n",
    "import pandas as pd\n",
    "import statsmodels.formula.api as smf\n"
   ]
  },
  {
   "cell_type": "markdown",
   "id": "e4cc512b",
   "metadata": {},
   "source": [
    "Second issue is to read the data and save in a variable"
   ]
  },
  {
   "cell_type": "code",
   "execution_count": 2,
   "id": "6a5eed49",
   "metadata": {},
   "outputs": [],
   "source": [
    "# Read the data\n",
    "data = pd.read_excel(\"Datos_Modelo.xlsx\", sheet_name=\"Datos\")"
   ]
  },
  {
   "cell_type": "markdown",
   "id": "efc77053",
   "metadata": {},
   "source": [
    "We need to be sure that the category variable is treated right"
   ]
  },
  {
   "cell_type": "code",
   "execution_count": null,
   "id": "fed892b5",
   "metadata": {},
   "outputs": [],
   "source": [
    "# ensure type of data\n",
    "data['Tamaño_Empresa'] = data['Tamaño_Empresa'].astype('category')"
   ]
  },
  {
   "cell_type": "markdown",
   "id": "02727148",
   "metadata": {},
   "source": [
    "now we create the models using statsmodels to implement single linear regression and multiple linear regression\n",
    "\n",
    "### Model 1: Salary ~ Experience"
   ]
  },
  {
   "cell_type": "code",
   "execution_count": 6,
   "id": "de6f3fc0",
   "metadata": {},
   "outputs": [
    {
     "name": "stdout",
     "output_type": "stream",
     "text": [
      "                            OLS Regression Results                            \n",
      "==============================================================================\n",
      "Dep. Variable:                Salario   R-squared:                       0.651\n",
      "Model:                            OLS   Adj. R-squared:                  0.649\n",
      "Method:                 Least Squares   F-statistic:                     368.7\n",
      "Date:                Sun, 10 Aug 2025   Prob (F-statistic):           4.27e-47\n",
      "Time:                        20:58:11   Log-Likelihood:                -2049.6\n",
      "No. Observations:                 200   AIC:                             4103.\n",
      "Df Residuals:                     198   BIC:                             4110.\n",
      "Df Model:                           1                                         \n",
      "Covariance Type:            nonrobust                                         \n",
      "===============================================================================\n",
      "                  coef    std err          t      P>|t|      [0.025      0.975]\n",
      "-------------------------------------------------------------------------------\n",
      "Intercept    4.128e+04    888.850     46.447      0.000    3.95e+04     4.3e+04\n",
      "Experiencia  1527.6103     79.552     19.203      0.000    1370.732    1684.488\n",
      "==============================================================================\n",
      "Omnibus:                        3.164   Durbin-Watson:                   2.065\n",
      "Prob(Omnibus):                  0.206   Jarque-Bera (JB):                2.961\n",
      "Skew:                           0.297   Prob(JB):                        0.228\n",
      "Kurtosis:                       3.039   Cond. No.                         20.6\n",
      "==============================================================================\n",
      "\n",
      "Notes:\n",
      "[1] Standard Errors assume that the covariance matrix of the errors is correctly specified.\n"
     ]
    }
   ],
   "source": [
    "model_1 = smf.ols('Salario ~ Experiencia',data=data).fit()\n",
    "print(model_1.summary())"
   ]
  },
  {
   "cell_type": "markdown",
   "id": "4c0f41d3",
   "metadata": {},
   "source": [
    "### Model 2: Salary ~ Experience + Education_years"
   ]
  },
  {
   "cell_type": "code",
   "execution_count": 7,
   "id": "6b21c2ca",
   "metadata": {},
   "outputs": [
    {
     "name": "stdout",
     "output_type": "stream",
     "text": [
      "                            OLS Regression Results                            \n",
      "==============================================================================\n",
      "Dep. Variable:                Salario   R-squared:                       0.781\n",
      "Model:                            OLS   Adj. R-squared:                  0.779\n",
      "Method:                 Least Squares   F-statistic:                     350.8\n",
      "Date:                Sun, 10 Aug 2025   Prob (F-statistic):           1.20e-65\n",
      "Time:                        21:00:54   Log-Likelihood:                -2003.0\n",
      "No. Observations:                 200   AIC:                             4012.\n",
      "Df Residuals:                     197   BIC:                             4022.\n",
      "Df Model:                           2                                         \n",
      "Covariance Type:            nonrobust                                         \n",
      "==================================================================================\n",
      "                     coef    std err          t      P>|t|      [0.025      0.975]\n",
      "----------------------------------------------------------------------------------\n",
      "Intercept       2.667e+04   1524.955     17.487      0.000    2.37e+04    2.97e+04\n",
      "Experiencia     1498.4077     63.235     23.696      0.000    1373.703    1623.112\n",
      "Años_Educación  1102.2141    101.926     10.814      0.000     901.208    1303.220\n",
      "==============================================================================\n",
      "Omnibus:                        3.247   Durbin-Watson:                   2.132\n",
      "Prob(Omnibus):                  0.197   Jarque-Bera (JB):                3.134\n",
      "Skew:                           0.306   Prob(JB):                        0.209\n",
      "Kurtosis:                       2.978   Cond. No.                         68.0\n",
      "==============================================================================\n",
      "\n",
      "Notes:\n",
      "[1] Standard Errors assume that the covariance matrix of the errors is correctly specified.\n"
     ]
    }
   ],
   "source": [
    "model_2 = smf.ols('Salario ~ Experiencia + Años_Educación',data=data).fit()\n",
    "print(model_2.summary())"
   ]
  },
  {
   "cell_type": "markdown",
   "id": "846522b4",
   "metadata": {},
   "source": [
    "### Model 3: Salary ~ Experience + Education_Years + Company_size (as factor)"
   ]
  },
  {
   "cell_type": "code",
   "execution_count": 8,
   "id": "7aaab27a",
   "metadata": {},
   "outputs": [
    {
     "name": "stdout",
     "output_type": "stream",
     "text": [
      "                            OLS Regression Results                            \n",
      "==============================================================================\n",
      "Dep. Variable:                Salario   R-squared:                       0.813\n",
      "Model:                            OLS   Adj. R-squared:                  0.809\n",
      "Method:                 Least Squares   F-statistic:                     211.8\n",
      "Date:                Sun, 10 Aug 2025   Prob (F-statistic):           8.57e-70\n",
      "Time:                        21:03:30   Log-Likelihood:                -1987.2\n",
      "No. Observations:                 200   AIC:                             3984.\n",
      "Df Residuals:                     195   BIC:                             4001.\n",
      "Df Model:                           4                                         \n",
      "Covariance Type:            nonrobust                                         \n",
      "================================================================================================\n",
      "                                   coef    std err          t      P>|t|      [0.025      0.975]\n",
      "------------------------------------------------------------------------------------------------\n",
      "Intercept                     2.946e+04   1558.311     18.908      0.000    2.64e+04    3.25e+04\n",
      "C(Tamaño_Empresa)[T.Mediana] -2425.5560    862.685     -2.812      0.005   -4126.946    -724.166\n",
      "C(Tamaño_Empresa)[T.Pequeña] -5437.1434    941.330     -5.776      0.000   -7293.639   -3580.648\n",
      "Experiencia                   1507.4415     58.856     25.612      0.000    1391.366    1623.517\n",
      "Años_Educación                1078.9769     94.862     11.374      0.000     891.889    1266.065\n",
      "==============================================================================\n",
      "Omnibus:                        3.535   Durbin-Watson:                   2.129\n",
      "Prob(Omnibus):                  0.171   Jarque-Bera (JB):                3.316\n",
      "Skew:                           0.251   Prob(JB):                        0.191\n",
      "Kurtosis:                       2.617   Cond. No.                         79.8\n",
      "==============================================================================\n",
      "\n",
      "Notes:\n",
      "[1] Standard Errors assume that the covariance matrix of the errors is correctly specified.\n"
     ]
    }
   ],
   "source": [
    "model_3 = smf.ols('Salario ~ Experiencia + Años_Educación + C(Tamaño_Empresa)',data=data).fit()\n",
    "print(model_3.summary())"
   ]
  },
  {
   "cell_type": "markdown",
   "id": "04b86f2b",
   "metadata": {},
   "source": [
    "# Machine Learning Part: Regression Model in python\n",
    "- We will implement many machine learning models at the same time and with low code\n",
    "- We prioritize the sklearn use, for facility in machine learning\n",
    "- We separate in train and test part the data (things that we didn't do in excel)"
   ]
  },
  {
   "cell_type": "code",
   "execution_count": 3,
   "id": "27795c29",
   "metadata": {},
   "outputs": [],
   "source": [
    "# Libraries\n",
    "import pandas as pd\n",
    "from sklearn.model_selection import train_test_split\n",
    "from sklearn.linear_model import LinearRegression\n",
    "from sklearn.tree import DecisionTreeRegressor\n",
    "from sklearn.ensemble import RandomForestRegressor\n",
    "from sklearn.neighbors import KNeighborsRegressor\n",
    "from sklearn.metrics import r2_score, mean_absolute_error, mean_squared_error\n",
    "import numpy as np\n"
   ]
  },
  {
   "cell_type": "markdown",
   "id": "1bbd073f",
   "metadata": {},
   "source": [
    "now we need to read the excel file (in this case \"Datos_modelo.xlsx), pandas do the task with his function read_excel(file_path,sheet_name=\"sheet_name\") and transform the category variable in category type"
   ]
  },
  {
   "cell_type": "code",
   "execution_count": 4,
   "id": "f07d1ba7",
   "metadata": {},
   "outputs": [],
   "source": [
    "# read the file\n",
    "data = pd.read_excel('Datos_Modelo.xlsx',sheet_name='Datos')\n",
    "\n",
    "#transform the variable\n",
    "data['Tamaño_Empresa']=data['Tamaño_Empresa'].astype('category')"
   ]
  },
  {
   "cell_type": "markdown",
   "id": "adc3549a",
   "metadata": {},
   "source": [
    "then we define predictor and goal variables"
   ]
  },
  {
   "cell_type": "code",
   "execution_count": 5,
   "id": "d06bb7c6",
   "metadata": {},
   "outputs": [],
   "source": [
    "# predictor variables\n",
    "X = data.drop(columns='Salario')\n",
    "X = pd.get_dummies(X,drop_first=True) # one-hot encoding for category variables\n",
    "\n",
    "# goal variable\n",
    "y = data['Salario']"
   ]
  },
  {
   "cell_type": "markdown",
   "id": "d1d1d4ef",
   "metadata": {},
   "source": [
    "We need to separate the training data and testing data"
   ]
  },
  {
   "cell_type": "code",
   "execution_count": 6,
   "id": "890173be",
   "metadata": {},
   "outputs": [],
   "source": [
    "# split the data in training data and testing data\n",
    "X_train, X_test, y_train, y_test = train_test_split(X,y,test_size=0.2,random_state=123)"
   ]
  },
  {
   "cell_type": "markdown",
   "id": "518366c6",
   "metadata": {},
   "source": [
    "Now we inicialize the models"
   ]
  },
  {
   "cell_type": "code",
   "execution_count": 7,
   "id": "f5c01976",
   "metadata": {},
   "outputs": [],
   "source": [
    "# inicializing the models\n",
    "models = {\n",
    "\"Linear Regression\": LinearRegression(),\n",
    "\"Decision Tree\": DecisionTreeRegressor(random_state=123),\n",
    "\"Random Forest\": RandomForestRegressor(random_state=123),\n",
    "\"KNN\": KNeighborsRegressor()\n",
    "}"
   ]
  },
  {
   "cell_type": "markdown",
   "id": "074e6a83",
   "metadata": {},
   "source": [
    "then we need to evaluate the resuts"
   ]
  },
  {
   "cell_type": "code",
   "execution_count": 8,
   "id": "32155b34",
   "metadata": {},
   "outputs": [],
   "source": [
    "# Evaluating the models\n",
    "results=[]\n",
    "\n",
    "for name, model in models.items():\n",
    "    # training the model\n",
    "    model.fit(X_train,y_train)\n",
    "    # testing the model\n",
    "    prediction = model.predict(X_test)\n",
    "    \n",
    "    # r2, mae and rmse values\n",
    "    r2 = r2_score(y_test,prediction)\n",
    "    mae = mean_absolute_error(y_test,prediction)\n",
    "    rmse = np.sqrt(mean_squared_error(y_test,prediction))\n",
    "    \n",
    "    results.append(\n",
    "        {\n",
    "            \"Model\": name,\n",
    "            \"R2\": r2,\n",
    "            \"MAE\":mae,\n",
    "            \"RMSE\":rmse\n",
    "        }\n",
    "    )"
   ]
  },
  {
   "cell_type": "markdown",
   "id": "db734429",
   "metadata": {},
   "source": [
    "at the end, we show the results"
   ]
  },
  {
   "cell_type": "code",
   "execution_count": 9,
   "id": "39c13fc9",
   "metadata": {},
   "outputs": [
    {
     "name": "stdout",
     "output_type": "stream",
     "text": [
      "               Model        R2          MAE         RMSE\n",
      "0  Linear Regression  0.938911  2725.021351  3203.692836\n",
      "1      Decision Tree  0.801479  4912.576000  5775.292152\n",
      "2      Random Forest  0.903859  3279.324056  4019.077296\n",
      "3                KNN  0.889586  3480.826550  4307.073523\n"
     ]
    }
   ],
   "source": [
    "# printing the results\n",
    "df_results = pd.DataFrame(results)\n",
    "print(df_results)"
   ]
  }
 ],
 "metadata": {
  "kernelspec": {
   "display_name": "Data_Science_Area",
   "language": "python",
   "name": "python3"
  },
  "language_info": {
   "codemirror_mode": {
    "name": "ipython",
    "version": 3
   },
   "file_extension": ".py",
   "mimetype": "text/x-python",
   "name": "python",
   "nbconvert_exporter": "python",
   "pygments_lexer": "ipython3",
   "version": "3.13.2"
  }
 },
 "nbformat": 4,
 "nbformat_minor": 5
}
